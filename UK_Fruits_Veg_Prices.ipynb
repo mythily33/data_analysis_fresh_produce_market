{
 "cells": [
  {
   "cell_type": "code",
   "execution_count": 1,
   "id": "4f17bc7a",
   "metadata": {},
   "outputs": [
    {
     "data": {
      "text/html": [
       "<div>\n",
       "<style scoped>\n",
       "    .dataframe tbody tr th:only-of-type {\n",
       "        vertical-align: middle;\n",
       "    }\n",
       "\n",
       "    .dataframe tbody tr th {\n",
       "        vertical-align: top;\n",
       "    }\n",
       "\n",
       "    .dataframe thead th {\n",
       "        text-align: right;\n",
       "    }\n",
       "</style>\n",
       "<table border=\"1\" class=\"dataframe\">\n",
       "  <thead>\n",
       "    <tr style=\"text-align: right;\">\n",
       "      <th></th>\n",
       "      <th>category</th>\n",
       "      <th>item</th>\n",
       "      <th>variety</th>\n",
       "      <th>date</th>\n",
       "      <th>price</th>\n",
       "      <th>unit</th>\n",
       "    </tr>\n",
       "  </thead>\n",
       "  <tbody>\n",
       "    <tr>\n",
       "      <th>0</th>\n",
       "      <td>fruit</td>\n",
       "      <td>apples</td>\n",
       "      <td>bramleys_seedling</td>\n",
       "      <td>2022-03-11</td>\n",
       "      <td>2.05</td>\n",
       "      <td>kg</td>\n",
       "    </tr>\n",
       "    <tr>\n",
       "      <th>1</th>\n",
       "      <td>fruit</td>\n",
       "      <td>apples</td>\n",
       "      <td>coxs_orange_group</td>\n",
       "      <td>2022-03-11</td>\n",
       "      <td>1.22</td>\n",
       "      <td>kg</td>\n",
       "    </tr>\n",
       "    <tr>\n",
       "      <th>2</th>\n",
       "      <td>fruit</td>\n",
       "      <td>apples</td>\n",
       "      <td>egremont_russet</td>\n",
       "      <td>2022-03-11</td>\n",
       "      <td>1.14</td>\n",
       "      <td>kg</td>\n",
       "    </tr>\n",
       "    <tr>\n",
       "      <th>3</th>\n",
       "      <td>fruit</td>\n",
       "      <td>apples</td>\n",
       "      <td>braeburn</td>\n",
       "      <td>2022-03-11</td>\n",
       "      <td>1.05</td>\n",
       "      <td>kg</td>\n",
       "    </tr>\n",
       "    <tr>\n",
       "      <th>4</th>\n",
       "      <td>fruit</td>\n",
       "      <td>apples</td>\n",
       "      <td>gala</td>\n",
       "      <td>2022-03-11</td>\n",
       "      <td>1.03</td>\n",
       "      <td>kg</td>\n",
       "    </tr>\n",
       "    <tr>\n",
       "      <th>5</th>\n",
       "      <td>fruit</td>\n",
       "      <td>apples</td>\n",
       "      <td>other_late_season</td>\n",
       "      <td>2022-03-11</td>\n",
       "      <td>0.85</td>\n",
       "      <td>kg</td>\n",
       "    </tr>\n",
       "    <tr>\n",
       "      <th>6</th>\n",
       "      <td>fruit</td>\n",
       "      <td>pears</td>\n",
       "      <td>conference</td>\n",
       "      <td>2022-03-11</td>\n",
       "      <td>0.77</td>\n",
       "      <td>kg</td>\n",
       "    </tr>\n",
       "    <tr>\n",
       "      <th>7</th>\n",
       "      <td>fruit</td>\n",
       "      <td>pears</td>\n",
       "      <td>doyenne_du_comice</td>\n",
       "      <td>2022-03-11</td>\n",
       "      <td>1.24</td>\n",
       "      <td>kg</td>\n",
       "    </tr>\n",
       "    <tr>\n",
       "      <th>8</th>\n",
       "      <td>vegetable</td>\n",
       "      <td>beetroot</td>\n",
       "      <td>beetroot</td>\n",
       "      <td>2022-03-11</td>\n",
       "      <td>0.52</td>\n",
       "      <td>kg</td>\n",
       "    </tr>\n",
       "    <tr>\n",
       "      <th>9</th>\n",
       "      <td>vegetable</td>\n",
       "      <td>brussels_sprouts</td>\n",
       "      <td>brussels_sprouts</td>\n",
       "      <td>2022-03-11</td>\n",
       "      <td>0.78</td>\n",
       "      <td>kg</td>\n",
       "    </tr>\n",
       "    <tr>\n",
       "      <th>10</th>\n",
       "      <td>vegetable</td>\n",
       "      <td>pak_choi</td>\n",
       "      <td>pak_choi</td>\n",
       "      <td>2022-03-11</td>\n",
       "      <td>3.17</td>\n",
       "      <td>kg</td>\n",
       "    </tr>\n",
       "    <tr>\n",
       "      <th>11</th>\n",
       "      <td>vegetable</td>\n",
       "      <td>curly_kale</td>\n",
       "      <td>curly_kale</td>\n",
       "      <td>2022-03-11</td>\n",
       "      <td>3.17</td>\n",
       "      <td>kg</td>\n",
       "    </tr>\n",
       "    <tr>\n",
       "      <th>12</th>\n",
       "      <td>vegetable</td>\n",
       "      <td>cabbage</td>\n",
       "      <td>red</td>\n",
       "      <td>2022-03-11</td>\n",
       "      <td>0.59</td>\n",
       "      <td>kg</td>\n",
       "    </tr>\n",
       "    <tr>\n",
       "      <th>13</th>\n",
       "      <td>vegetable</td>\n",
       "      <td>cabbage</td>\n",
       "      <td>savoy</td>\n",
       "      <td>2022-03-11</td>\n",
       "      <td>0.51</td>\n",
       "      <td>head</td>\n",
       "    </tr>\n",
       "    <tr>\n",
       "      <th>14</th>\n",
       "      <td>vegetable</td>\n",
       "      <td>spring_greens</td>\n",
       "      <td>prepacked</td>\n",
       "      <td>2022-03-11</td>\n",
       "      <td>1.04</td>\n",
       "      <td>kg</td>\n",
       "    </tr>\n",
       "    <tr>\n",
       "      <th>15</th>\n",
       "      <td>vegetable</td>\n",
       "      <td>cabbage</td>\n",
       "      <td>white</td>\n",
       "      <td>2022-03-11</td>\n",
       "      <td>0.41</td>\n",
       "      <td>kg</td>\n",
       "    </tr>\n",
       "    <tr>\n",
       "      <th>16</th>\n",
       "      <td>vegetable</td>\n",
       "      <td>cabbage</td>\n",
       "      <td>round_green_other</td>\n",
       "      <td>2022-03-11</td>\n",
       "      <td>0.46</td>\n",
       "      <td>head</td>\n",
       "    </tr>\n",
       "    <tr>\n",
       "      <th>17</th>\n",
       "      <td>vegetable</td>\n",
       "      <td>carrots</td>\n",
       "      <td>topped_washed</td>\n",
       "      <td>2022-03-11</td>\n",
       "      <td>0.42</td>\n",
       "      <td>kg</td>\n",
       "    </tr>\n",
       "    <tr>\n",
       "      <th>18</th>\n",
       "      <td>vegetable</td>\n",
       "      <td>cauliflower</td>\n",
       "      <td>all</td>\n",
       "      <td>2022-03-11</td>\n",
       "      <td>0.70</td>\n",
       "      <td>head</td>\n",
       "    </tr>\n",
       "    <tr>\n",
       "      <th>19</th>\n",
       "      <td>vegetable</td>\n",
       "      <td>celeriac</td>\n",
       "      <td>celeriac</td>\n",
       "      <td>2022-03-11</td>\n",
       "      <td>0.81</td>\n",
       "      <td>kg</td>\n",
       "    </tr>\n",
       "  </tbody>\n",
       "</table>\n",
       "</div>"
      ],
      "text/plain": [
       "     category              item            variety        date  price  unit\n",
       "0       fruit            apples  bramleys_seedling  2022-03-11   2.05    kg\n",
       "1       fruit            apples  coxs_orange_group  2022-03-11   1.22    kg\n",
       "2       fruit            apples    egremont_russet  2022-03-11   1.14    kg\n",
       "3       fruit            apples           braeburn  2022-03-11   1.05    kg\n",
       "4       fruit            apples               gala  2022-03-11   1.03    kg\n",
       "5       fruit            apples  other_late_season  2022-03-11   0.85    kg\n",
       "6       fruit             pears         conference  2022-03-11   0.77    kg\n",
       "7       fruit             pears  doyenne_du_comice  2022-03-11   1.24    kg\n",
       "8   vegetable          beetroot           beetroot  2022-03-11   0.52    kg\n",
       "9   vegetable  brussels_sprouts   brussels_sprouts  2022-03-11   0.78    kg\n",
       "10  vegetable          pak_choi           pak_choi  2022-03-11   3.17    kg\n",
       "11  vegetable        curly_kale         curly_kale  2022-03-11   3.17    kg\n",
       "12  vegetable           cabbage                red  2022-03-11   0.59    kg\n",
       "13  vegetable           cabbage              savoy  2022-03-11   0.51  head\n",
       "14  vegetable     spring_greens          prepacked  2022-03-11   1.04    kg\n",
       "15  vegetable           cabbage              white  2022-03-11   0.41    kg\n",
       "16  vegetable           cabbage  round_green_other  2022-03-11   0.46  head\n",
       "17  vegetable           carrots      topped_washed  2022-03-11   0.42    kg\n",
       "18  vegetable       cauliflower                all  2022-03-11   0.70  head\n",
       "19  vegetable          celeriac           celeriac  2022-03-11   0.81    kg"
      ]
     },
     "execution_count": 1,
     "metadata": {},
     "output_type": "execute_result"
    }
   ],
   "source": [
    "# Import required python modules\n",
    "\n",
    "import pandas as pd\n",
    "import numpy as np\n",
    "import matplotlib.pyplot as plt\n",
    "import seaborn as sns\n",
    "import plotly.offline as pxo\n",
    "import plotly.express as px\n",
    "%matplotlib inline\n",
    "\n",
    "# Read CSV file using Pandas Library\n",
    "\n",
    "df = pd.read_csv('./fruitvegprices-2017_2022.csv')\n",
    "\n",
    "# To view top 20 rows for initial analysis\n",
    "\n",
    "df.head(20)\n"
   ]
  },
  {
   "cell_type": "code",
   "execution_count": 2,
   "id": "3bb1bd83",
   "metadata": {},
   "outputs": [
    {
     "name": "stdout",
     "output_type": "stream",
     "text": [
      "<class 'pandas.core.frame.DataFrame'>\n",
      "RangeIndex: 9647 entries, 0 to 9646\n",
      "Data columns (total 6 columns):\n",
      " #   Column    Non-Null Count  Dtype  \n",
      "---  ------    --------------  -----  \n",
      " 0   category  9647 non-null   object \n",
      " 1   item      9647 non-null   object \n",
      " 2   variety   9647 non-null   object \n",
      " 3   date      9647 non-null   object \n",
      " 4   price     9647 non-null   float64\n",
      " 5   unit      9647 non-null   object \n",
      "dtypes: float64(1), object(5)\n",
      "memory usage: 452.3+ KB\n"
     ]
    }
   ],
   "source": [
    "#To retrieve information about the dataframe object\n",
    "#useful to understand columns data types\n",
    "#and quickly inspect if there are nullable values \n",
    "\n",
    "df.info()"
   ]
  },
  {
   "cell_type": "markdown",
   "id": "1e6ebdac",
   "metadata": {},
   "source": [
    "The type of date attribute is in object which is not ideal to use especially when one has to manipulate data around time series. Hence coverting it to datetime type."
   ]
  },
  {
   "cell_type": "code",
   "execution_count": 3,
   "id": "87cd4137",
   "metadata": {},
   "outputs": [],
   "source": [
    "# Converting data field from object to datetime\n",
    "df['date'] = pd.to_datetime(df['date'])"
   ]
  },
  {
   "cell_type": "markdown",
   "id": "0138b86e",
   "metadata": {},
   "source": [
    "In order to extract subset of data, we can utilise below filtering by applying query method"
   ]
  },
  {
   "cell_type": "code",
   "execution_count": 4,
   "id": "863d4111",
   "metadata": {},
   "outputs": [
    {
     "data": {
      "text/html": [
       "<div>\n",
       "<style scoped>\n",
       "    .dataframe tbody tr th:only-of-type {\n",
       "        vertical-align: middle;\n",
       "    }\n",
       "\n",
       "    .dataframe tbody tr th {\n",
       "        vertical-align: top;\n",
       "    }\n",
       "\n",
       "    .dataframe thead th {\n",
       "        text-align: right;\n",
       "    }\n",
       "</style>\n",
       "<table border=\"1\" class=\"dataframe\">\n",
       "  <thead>\n",
       "    <tr style=\"text-align: right;\">\n",
       "      <th></th>\n",
       "      <th>category</th>\n",
       "      <th>item</th>\n",
       "      <th>variety</th>\n",
       "      <th>date</th>\n",
       "      <th>price</th>\n",
       "      <th>unit</th>\n",
       "    </tr>\n",
       "  </thead>\n",
       "  <tbody>\n",
       "    <tr>\n",
       "      <th>9593</th>\n",
       "      <td>fruit</td>\n",
       "      <td>apples</td>\n",
       "      <td>bramleys_seedling</td>\n",
       "      <td>2017-11-03</td>\n",
       "      <td>0.73</td>\n",
       "      <td>kg</td>\n",
       "    </tr>\n",
       "    <tr>\n",
       "      <th>9594</th>\n",
       "      <td>fruit</td>\n",
       "      <td>apples</td>\n",
       "      <td>coxs_orange_group</td>\n",
       "      <td>2017-11-03</td>\n",
       "      <td>0.75</td>\n",
       "      <td>kg</td>\n",
       "    </tr>\n",
       "    <tr>\n",
       "      <th>9595</th>\n",
       "      <td>fruit</td>\n",
       "      <td>apples</td>\n",
       "      <td>egremont_russet</td>\n",
       "      <td>2017-11-03</td>\n",
       "      <td>0.82</td>\n",
       "      <td>kg</td>\n",
       "    </tr>\n",
       "    <tr>\n",
       "      <th>9596</th>\n",
       "      <td>fruit</td>\n",
       "      <td>apples</td>\n",
       "      <td>braeburn</td>\n",
       "      <td>2017-11-03</td>\n",
       "      <td>0.64</td>\n",
       "      <td>kg</td>\n",
       "    </tr>\n",
       "    <tr>\n",
       "      <th>9597</th>\n",
       "      <td>fruit</td>\n",
       "      <td>apples</td>\n",
       "      <td>gala</td>\n",
       "      <td>2017-11-03</td>\n",
       "      <td>0.79</td>\n",
       "      <td>kg</td>\n",
       "    </tr>\n",
       "    <tr>\n",
       "      <th>9598</th>\n",
       "      <td>fruit</td>\n",
       "      <td>apples</td>\n",
       "      <td>other_mid_season</td>\n",
       "      <td>2017-11-03</td>\n",
       "      <td>0.76</td>\n",
       "      <td>kg</td>\n",
       "    </tr>\n",
       "    <tr>\n",
       "      <th>9599</th>\n",
       "      <td>fruit</td>\n",
       "      <td>apples</td>\n",
       "      <td>other_late_season</td>\n",
       "      <td>2017-11-03</td>\n",
       "      <td>0.75</td>\n",
       "      <td>kg</td>\n",
       "    </tr>\n",
       "  </tbody>\n",
       "</table>\n",
       "</div>"
      ],
      "text/plain": [
       "     category    item            variety       date  price unit\n",
       "9593    fruit  apples  bramleys_seedling 2017-11-03   0.73   kg\n",
       "9594    fruit  apples  coxs_orange_group 2017-11-03   0.75   kg\n",
       "9595    fruit  apples    egremont_russet 2017-11-03   0.82   kg\n",
       "9596    fruit  apples           braeburn 2017-11-03   0.64   kg\n",
       "9597    fruit  apples               gala 2017-11-03   0.79   kg\n",
       "9598    fruit  apples   other_mid_season 2017-11-03   0.76   kg\n",
       "9599    fruit  apples  other_late_season 2017-11-03   0.75   kg"
      ]
     },
     "execution_count": 4,
     "metadata": {},
     "output_type": "execute_result"
    }
   ],
   "source": [
    "df.query('date==\"2017-11-03\" & item==\"apples\"')"
   ]
  },
  {
   "cell_type": "code",
   "execution_count": 5,
   "id": "95fa680d",
   "metadata": {},
   "outputs": [
    {
     "name": "stdout",
     "output_type": "stream",
     "text": [
      "vegetable      7264\n",
      "fruit          1992\n",
      "cut_flowers     342\n",
      "pot_plants       49\n",
      "Name: category, dtype: int64\n"
     ]
    },
    {
     "data": {
      "image/png": "[encoded data removed]",
      "text/plain": [
       "<Figure size 1080x504 with 1 Axes>"
      ]
     },
     "metadata": {},
     "output_type": "display_data"
    }
   ],
   "source": [
    "# To retrieve counts of unique values by cateogry field\n",
    "\n",
    "unique_category_count = df['category'].value_counts()\n",
    "print(unique_category_count)\n",
    "\n",
    "#create pie chart\n",
    "plt.figure(figsize=(15,7))\n",
    "unique_category_count.plot(kind='pie', autopct='%.2f%%', title='Percentage of each category')\n",
    "plt.show()"
   ]
  },
  {
   "cell_type": "markdown",
   "id": "ae7d8f04",
   "metadata": {},
   "source": [
    "The chart illustrates UK fresh produce market comprises 76% of vegetables as compared to other categories"
   ]
  },
  {
   "cell_type": "code",
   "execution_count": 8,
   "id": "90b975f4",
   "metadata": {},
   "outputs": [
    {
     "data": {
      "application/vnd.plotly.v1+json": {
       "config": {
        "plotlyServerURL": "https://plot.ly"
       },
       "data": [
        {
         "branchvalues": "total",
         "domain": {
          "x": [
           0,
           1
          ],
          "y": [
           0,
           1
          ]
         },
         "hovertemplate": "labels=%{label}<br>count=%{value}<br>parent=%{parent}<br>id=%{id}<extra></extra>",
         "ids": [
          "pot_plants/cyclamen/13_cm",
          "pot_plants/geranium/13_cm",
          "pot_plants/poinsettia/13_cm",
          "pot_plants/geranium/9_cm",
          "vegetable/cauliflower/all",
          "fruit/cherries/all",
          "fruit/plums/all_other",
          "cut_flowers/gladioli/all_varieties",
          "vegetable/parsnips/all_varieties",
          "vegetable/celery/all_washed",
          "vegetable/asparagus/asparagus",
          "vegetable/beetroot/beetroot",
          "fruit/currants/black",
          "fruit/blackberries/blackberries",
          "fruit/blueberries/blueberries",
          "fruit/apples/braeburn",
          "fruit/apples/bramleys_seedling",
          "vegetable/beans/broad",
          "vegetable/brussels_sprouts/brussels_sprouts",
          "vegetable/onion/bulb_brown",
          "vegetable/onion/bulb_red",
          "vegetable/lettuce/butterhead_indoor",
          "vegetable/calabrese/calabrese",
          "vegetable/celeriac/celeriac",
          "vegetable/tomatoes/cherry",
          "vegetable/chinese_leaf/chinese_leaf",
          "fruit/pears/conference",
          "vegetable/coriander/coriander",
          "vegetable/lettuce/cos",
          "vegetable/courgettes/courgettes",
          "fruit/apples/coxs_orange_group",
          "vegetable/lettuce/crisp_iceberg_type",
          "vegetable/cucumbers/cucumbers",
          "vegetable/curly_kale/curly_kale",
          "fruit/pears/doyenne_du_comice",
          "vegetable/beans/dwarf_french_or_kidney",
          "fruit/apples/egremont_russet",
          "vegetable/capsicum/elongated",
          "vegetable/rhubarb/forced",
          "fruit/apples/gala",
          "fruit/gooseberries/gooseberries",
          "vegetable/capsicum/green",
          "cut_flowers/alstromeria/indoor",
          "cut_flowers/narcissus/indoor",
          "cut_flowers/chrysanthemum/indoor_spray",
          "vegetable/lettuce/little_gem",
          "vegetable/spinach_leaf/loose_bunches",
          "cut_flowers/lillies/oriental",
          "fruit/pears/other",
          "fruit/apples/other_early_season",
          "fruit/apples/other_late_season",
          "fruit/apples/other_mid_season",
          "cut_flowers/narcissus/outdoor",
          "vegetable/rhubarb/outdoor",
          "vegetable/pak_choi/pak_choi",
          "cut_flowers/peony/peony",
          "vegetable/mixed_babyleaf_salad/pillow_pack",
          "vegetable/watercress/pillow_packs",
          "vegetable/tomatoes/plum",
          "vegetable/spring_greens/prepacked",
          "fruit/raspberries/raspberries",
          "vegetable/cabbage/red",
          "vegetable/capsicum/red",
          "fruit/currants/red",
          "vegetable/rocket/rocket",
          "vegetable/tomatoes/round",
          "vegetable/cabbage/round_green_other",
          "vegetable/beans/runner_climbing",
          "vegetable/onion/saladspring",
          "vegetable/cabbage/savoy",
          "vegetable/peas/shelling_all_varieties",
          "cut_flowers/stocks/stocks",
          "fruit/strawberries/strawberries",
          "vegetable/cabbage/summer_autumn_pointed",
          "vegetable/swede/swede",
          "cut_flowers/sweet_williams/sweet_williams",
          "vegetable/sweetcorn/sweetcorn",
          "vegetable/carrots/topped_washed",
          "vegetable/leeks/trimmed",
          "cut_flowers/tulips/tulips",
          "vegetable/turnip/turnip",
          "fruit/plums/victoria",
          "vegetable/tomatoes/vine",
          "vegetable/cabbage/white",
          "vegetable/capsicum/yelloworange",
          "cut_flowers/alstromeria",
          "fruit/apples",
          "vegetable/asparagus",
          "vegetable/beans",
          "vegetable/beetroot",
          "fruit/blackberries",
          "fruit/blueberries",
          "vegetable/brussels_sprouts",
          "vegetable/cabbage",
          "vegetable/calabrese",
          "vegetable/capsicum",
          "vegetable/carrots",
          "vegetable/cauliflower",
          "vegetable/celeriac",
          "vegetable/celery",
          "fruit/cherries",
          "vegetable/chinese_leaf",
          "cut_flowers/chrysanthemum",
          "vegetable/coriander",
          "vegetable/courgettes",
          "vegetable/cucumbers",
          "vegetable/curly_kale",
          "fruit/currants",
          "pot_plants/cyclamen",
          "pot_plants/geranium",
          "cut_flowers/gladioli",
          "fruit/gooseberries",
          "vegetable/leeks",
          "vegetable/lettuce",
          "cut_flowers/lillies",
          "vegetable/mixed_babyleaf_salad",
          "cut_flowers/narcissus",
          "vegetable/onion",
          "vegetable/pak_choi",
          "vegetable/parsnips",
          "fruit/pears",
          "vegetable/peas",
          "cut_flowers/peony",
          "fruit/plums",
          "pot_plants/poinsettia",
          "fruit/raspberries",
          "vegetable/rhubarb",
          "vegetable/rocket",
          "vegetable/spinach_leaf",
          "vegetable/spring_greens",
          "cut_flowers/stocks",
          "fruit/strawberries",
          "vegetable/swede",
          "cut_flowers/sweet_williams",
          "vegetable/sweetcorn",
          "vegetable/tomatoes",
          "cut_flowers/tulips",
          "vegetable/turnip",
          "vegetable/watercress",
          "cut_flowers",
          "fruit",
          "pot_plants",
          "vegetable"
         ],
         "labels": [
          "13_cm",
          "13_cm",
          "13_cm",
          "9_cm",
          "all",
          "all",
          "all_other",
          "all_varieties",
          "all_varieties",
          "all_washed",
          "asparagus",
          "beetroot",
          "black",
          "blackberries",
          "blueberries",
          "braeburn",
          "bramleys_seedling",
          "broad",
          "brussels_sprouts",
          "bulb_brown",
          "bulb_red",
          "butterhead_indoor",
          "calabrese",
          "celeriac",
          "cherry",
          "chinese_leaf",
          "conference",
          "coriander",
          "cos",
          "courgettes",
          "coxs_orange_group",
          "crisp_iceberg_type",
          "cucumbers",
          "curly_kale",
          "doyenne_du_comice",
          "dwarf_french_or_kidney",
          "egremont_russet",
          "elongated",
          "forced",
          "gala",
          "gooseberries",
          "green",
          "indoor",
          "indoor",
          "indoor_spray",
          "little_gem",
          "loose_bunches",
          "oriental",
          "other",
          "other_early_season",
          "other_late_season",
          "other_mid_season",
          "outdoor",
          "outdoor",
          "pak_choi",
          "peony",
          "pillow_pack",
          "pillow_packs",
          "plum",
          "prepacked",
          "raspberries",
          "red",
          "red",
          "red",
          "rocket",
          "round",
          "round_green_other",
          "runner_climbing",
          "saladspring",
          "savoy",
          "shelling_all_varieties",
          "stocks",
          "strawberries",
          "summer_autumn_pointed",
          "swede",
          "sweet_williams",
          "sweetcorn",
          "topped_washed",
          "trimmed",
          "tulips",
          "turnip",
          "victoria",
          "vine",
          "white",
          "yelloworange",
          "alstromeria",
          "apples",
          "asparagus",
          "beans",
          "beetroot",
          "blackberries",
          "blueberries",
          "brussels_sprouts",
          "cabbage",
          "calabrese",
          "capsicum",
          "carrots",
          "cauliflower",
          "celeriac",
          "celery",
          "cherries",
          "chinese_leaf",
          "chrysanthemum",
          "coriander",
          "courgettes",
          "cucumbers",
          "curly_kale",
          "currants",
          "cyclamen",
          "geranium",
          "gladioli",
          "gooseberries",
          "leeks",
          "lettuce",
          "lillies",
          "mixed_babyleaf_salad",
          "narcissus",
          "onion",
          "pak_choi",
          "parsnips",
          "pears",
          "peas",
          "peony",
          "plums",
          "poinsettia",
          "raspberries",
          "rhubarb",
          "rocket",
          "spinach_leaf",
          "spring_greens",
          "stocks",
          "strawberries",
          "swede",
          "sweet_williams",
          "sweetcorn",
          "tomatoes",
          "tulips",
          "turnip",
          "watercress",
          "cut_flowers",
          "fruit",
          "pot_plants",
          "vegetable"
         ],
         "name": "",
         "parents": [
          "pot_plants/cyclamen",
          "pot_plants/geranium",
          "pot_plants/poinsettia",
          "pot_plants/geranium",
          "vegetable/cauliflower",
          "fruit/cherries",
          "fruit/plums",
          "cut_flowers/gladioli",
          "vegetable/parsnips",
          "vegetable/celery",
          "vegetable/asparagus",
          "vegetable/beetroot",
          "fruit/currants",
          "fruit/blackberries",
          "fruit/blueberries",
          "fruit/apples",
          "fruit/apples",
          "vegetable/beans",
          "vegetable/brussels_sprouts",
          "vegetable/onion",
          "vegetable/onion",
          "vegetable/lettuce",
          "vegetable/calabrese",
          "vegetable/celeriac",
          "vegetable/tomatoes",
          "vegetable/chinese_leaf",
          "fruit/pears",
          "vegetable/coriander",
          "vegetable/lettuce",
          "vegetable/courgettes",
          "fruit/apples",
          "vegetable/lettuce",
          "vegetable/cucumbers",
          "vegetable/curly_kale",
          "fruit/pears",
          "vegetable/beans",
          "fruit/apples",
          "vegetable/capsicum",
          "vegetable/rhubarb",
          "fruit/apples",
          "fruit/gooseberries",
          "vegetable/capsicum",
          "cut_flowers/alstromeria",
          "cut_flowers/narcissus",
          "cut_flowers/chrysanthemum",
          "vegetable/lettuce",
          "vegetable/spinach_leaf",
          "cut_flowers/lillies",
          "fruit/pears",
          "fruit/apples",
          "fruit/apples",
          "fruit/apples",
          "cut_flowers/narcissus",
          "vegetable/rhubarb",
          "vegetable/pak_choi",
          "cut_flowers/peony",
          "vegetable/mixed_babyleaf_salad",
          "vegetable/watercress",
          "vegetable/tomatoes",
          "vegetable/spring_greens",
          "fruit/raspberries",
          "vegetable/cabbage",
          "vegetable/capsicum",
          "fruit/currants",
          "vegetable/rocket",
          "vegetable/tomatoes",
          "vegetable/cabbage",
          "vegetable/beans",
          "vegetable/onion",
          "vegetable/cabbage",
          "vegetable/peas",
          "cut_flowers/stocks",
          "fruit/strawberries",
          "vegetable/cabbage",
          "vegetable/swede",
          "cut_flowers/sweet_williams",
          "vegetable/sweetcorn",
          "vegetable/carrots",
          "vegetable/leeks",
          "cut_flowers/tulips",
          "vegetable/turnip",
          "fruit/plums",
          "vegetable/tomatoes",
          "vegetable/cabbage",
          "vegetable/capsicum",
          "cut_flowers",
          "fruit",
          "vegetable",
          "vegetable",
          "vegetable",
          "fruit",
          "fruit",
          "vegetable",
          "vegetable",
          "vegetable",
          "vegetable",
          "vegetable",
          "vegetable",
          "vegetable",
          "vegetable",
          "fruit",
          "vegetable",
          "cut_flowers",
          "vegetable",
          "vegetable",
          "vegetable",
          "vegetable",
          "fruit",
          "pot_plants",
          "pot_plants",
          "cut_flowers",
          "fruit",
          "vegetable",
          "vegetable",
          "cut_flowers",
          "vegetable",
          "cut_flowers",
          "vegetable",
          "vegetable",
          "vegetable",
          "fruit",
          "vegetable",
          "cut_flowers",
          "fruit",
          "pot_plants",
          "fruit",
          "vegetable",
          "vegetable",
          "vegetable",
          "vegetable",
          "cut_flowers",
          "fruit",
          "vegetable",
          "cut_flowers",
          "vegetable",
          "vegetable",
          "cut_flowers",
          "vegetable",
          "vegetable",
          "",
          "",
          "",
          ""
         ],
         "type": "sunburst",
         "values": [
          29,
          9,
          6,
          5,
          218,
          45,
          50,
          68,
          211,
          124,
          63,
          218,
          36,
          60,
          73,
          156,
          218,
          90,
          143,
          213,
          203,
          218,
          116,
          218,
          109,
          86,
          162,
          131,
          120,
          81,
          141,
          110,
          164,
          217,
          102,
          72,
          122,
          67,
          98,
          192,
          41,
          60,
          58,
          24,
          13,
          218,
          129,
          40,
          48,
          51,
          163,
          34,
          22,
          137,
          218,
          7,
          115,
          92,
          60,
          218,
          101,
          218,
          107,
          28,
          109,
          142,
          217,
          68,
          127,
          208,
          80,
          7,
          138,
          144,
          212,
          6,
          59,
          214,
          208,
          97,
          193,
          31,
          134,
          218,
          69,
          58,
          1077,
          63,
          230,
          218,
          60,
          73,
          143,
          1005,
          116,
          303,
          214,
          218,
          218,
          124,
          45,
          86,
          13,
          131,
          81,
          164,
          217,
          64,
          29,
          14,
          68,
          41,
          208,
          666,
          40,
          115,
          46,
          543,
          218,
          211,
          312,
          80,
          7,
          81,
          6,
          101,
          235,
          109,
          129,
          218,
          7,
          138,
          212,
          6,
          59,
          445,
          97,
          193,
          92,
          342,
          1992,
          49,
          7264
         ]
        }
       ],
       "layout": {
        "height": 1000,
        "legend": {
         "tracegroupgap": 0
        },
        "template": {
         "data": {
          "bar": [
           {
            "error_x": {
             "color": "#2a3f5f"
            },
            "error_y": {
             "color": "#2a3f5f"
            },
            "marker": {
             "line": {
              "color": "#E5ECF6",
              "width": 0.5
             },
             "pattern": {
              "fillmode": "overlay",
              "size": 10,
              "solidity": 0.2
             }
            },
            "type": "bar"
           }
          ],
          "barpolar": [
           {
            "marker": {
             "line": {
              "color": "#E5ECF6",
              "width": 0.5
             },
             "pattern": {
              "fillmode": "overlay",
              "size": 10,
              "solidity": 0.2
             }
            },
            "type": "barpolar"
           }
          ],
          "carpet": [
           {
            "aaxis": {
             "endlinecolor": "#2a3f5f",
             "gridcolor": "white",
             "linecolor": "white",
             "minorgridcolor": "white",
             "startlinecolor": "#2a3f5f"
            },
            "baxis": {
             "endlinecolor": "#2a3f5f",
             "gridcolor": "white",
             "linecolor": "white",
             "minorgridcolor": "white",
             "startlinecolor": "#2a3f5f"
            },
            "type": "carpet"
           }
          ],
          "choropleth": [
           {
            "colorbar": {
             "outlinewidth": 0,
             "ticks": ""
            },
            "type": "choropleth"
           }
          ],
          "contour": [
           {
            "colorbar": {
             "outlinewidth": 0,
             "ticks": ""
            },
            "colorscale": [
             [
              0,
              "#0d0887"
             ],
             [
              0.1111111111111111,
              "#46039f"
             ],
             [
              0.2222222222222222,
              "#7201a8"
             ],
             [
              0.3333333333333333,
              "#9c179e"
             ],
             [
              0.4444444444444444,
              "#bd3786"
             ],
             [
              0.5555555555555556,
              "#d8576b"
             ],
             [
              0.6666666666666666,
              "#ed7953"
             ],
             [
              0.7777777777777778,
              "#fb9f3a"
             ],
             [
              0.8888888888888888,
              "#fdca26"
             ],
             [
              1,
              "#f0f921"
             ]
            ],
            "type": "contour"
           }
          ],
          "contourcarpet": [
           {
            "colorbar": {
             "outlinewidth": 0,
             "ticks": ""
            },
            "type": "contourcarpet"
           }
          ],
          "heatmap": [
           {
            "colorbar": {
             "outlinewidth": 0,
             "ticks": ""
            },
            "colorscale": [
             [
              0,
              "#0d0887"
             ],
             [
              0.1111111111111111,
              "#46039f"
             ],
             [
              0.2222222222222222,
              "#7201a8"
             ],
             [
              0.3333333333333333,
              "#9c179e"
             ],
             [
              0.4444444444444444,
              "#bd3786"
             ],
             [
              0.5555555555555556,
              "#d8576b"
             ],
             [
              0.6666666666666666,
              "#ed7953"
             ],
             [
              0.7777777777777778,
              "#fb9f3a"
             ],
             [
              0.8888888888888888,
              "#fdca26"
             ],
             [
              1,
              "#f0f921"
             ]
            ],
            "type": "heatmap"
           }
          ],
          "heatmapgl": [
           {
            "colorbar": {
             "outlinewidth": 0,
             "ticks": ""
            },
            "colorscale": [
             [
              0,
              "#0d0887"
             ],
             [
              0.1111111111111111,
              "#46039f"
             ],
             [
              0.2222222222222222,
              "#7201a8"
             ],
             [
              0.3333333333333333,
              "#9c179e"
             ],
             [
              0.4444444444444444,
              "#bd3786"
             ],
             [
              0.5555555555555556,
              "#d8576b"
             ],
             [
              0.6666666666666666,
              "#ed7953"
             ],
             [
              0.7777777777777778,
              "#fb9f3a"
             ],
             [
              0.8888888888888888,
              "#fdca26"
             ],
             [
              1,
              "#f0f921"
             ]
            ],
            "type": "heatmapgl"
           }
          ],
          "histogram": [
           {
            "marker": {
             "pattern": {
              "fillmode": "overlay",
              "size": 10,
              "solidity": 0.2
             }
            },
            "type": "histogram"
           }
          ],
          "histogram2d": [
           {
            "colorbar": {
             "outlinewidth": 0,
             "ticks": ""
            },
            "colorscale": [
             [
              0,
              "#0d0887"
             ],
             [
              0.1111111111111111,
              "#46039f"
             ],
             [
              0.2222222222222222,
              "#7201a8"
             ],
             [
              0.3333333333333333,
              "#9c179e"
             ],
             [
              0.4444444444444444,
              "#bd3786"
             ],
             [
              0.5555555555555556,
              "#d8576b"
             ],
             [
              0.6666666666666666,
              "#ed7953"
             ],
             [
              0.7777777777777778,
              "#fb9f3a"
             ],
             [
              0.8888888888888888,
              "#fdca26"
             ],
             [
              1,
              "#f0f921"
             ]
            ],
            "type": "histogram2d"
           }
          ],
          "histogram2dcontour": [
           {
            "colorbar": {
             "outlinewidth": 0,
             "ticks": ""
            },
            "colorscale": [
             [
              0,
              "#0d0887"
             ],
             [
              0.1111111111111111,
              "#46039f"
             ],
             [
              0.2222222222222222,
              "#7201a8"
             ],
             [
              0.3333333333333333,
              "#9c179e"
             ],
             [
              0.4444444444444444,
              "#bd3786"
             ],
             [
              0.5555555555555556,
              "#d8576b"
             ],
             [
              0.6666666666666666,
              "#ed7953"
             ],
             [
              0.7777777777777778,
              "#fb9f3a"
             ],
             [
              0.8888888888888888,
              "#fdca26"
             ],
             [
              1,
              "#f0f921"
             ]
            ],
            "type": "histogram2dcontour"
           }
          ],
          "mesh3d": [
           {
            "colorbar": {
             "outlinewidth": 0,
             "ticks": ""
            },
            "type": "mesh3d"
           }
          ],
          "parcoords": [
           {
            "line": {
             "colorbar": {
              "outlinewidth": 0,
              "ticks": ""
             }
            },
            "type": "parcoords"
           }
          ],
          "pie": [
           {
            "automargin": true,
            "type": "pie"
           }
          ],
          "scatter": [
           {
            "marker": {
             "colorbar": {
              "outlinewidth": 0,
              "ticks": ""
             }
            },
            "type": "scatter"
           }
          ],
          "scatter3d": [
           {
            "line": {
             "colorbar": {
              "outlinewidth": 0,
              "ticks": ""
             }
            },
            "marker": {
             "colorbar": {
              "outlinewidth": 0,
              "ticks": ""
             }
            },
            "type": "scatter3d"
           }
          ],
          "scattercarpet": [
           {
            "marker": {
             "colorbar": {
              "outlinewidth": 0,
              "ticks": ""
             }
            },
            "type": "scattercarpet"
           }
          ],
          "scattergeo": [
           {
            "marker": {
             "colorbar": {
              "outlinewidth": 0,
              "ticks": ""
             }
            },
            "type": "scattergeo"
           }
          ],
          "scattergl": [
           {
            "marker": {
             "colorbar": {
              "outlinewidth": 0,
              "ticks": ""
             }
            },
            "type": "scattergl"
           }
          ],
          "scattermapbox": [
           {
            "marker": {
             "colorbar": {
              "outlinewidth": 0,
              "ticks": ""
             }
            },
            "type": "scattermapbox"
           }
          ],
          "scatterpolar": [
           {
            "marker": {
             "colorbar": {
              "outlinewidth": 0,
              "ticks": ""
             }
            },
            "type": "scatterpolar"
           }
          ],
          "scatterpolargl": [
           {
            "marker": {
             "colorbar": {
              "outlinewidth": 0,
              "ticks": ""
             }
            },
            "type": "scatterpolargl"
           }
          ],
          "scatterternary": [
           {
            "marker": {
             "colorbar": {
              "outlinewidth": 0,
              "ticks": ""
             }
            },
            "type": "scatterternary"
           }
          ],
          "surface": [
           {
            "colorbar": {
             "outlinewidth": 0,
             "ticks": ""
            },
            "colorscale": [
             [
              0,
              "#0d0887"
             ],
             [
              0.1111111111111111,
              "#46039f"
             ],
             [
              0.2222222222222222,
              "#7201a8"
             ],
             [
              0.3333333333333333,
              "#9c179e"
             ],
             [
              0.4444444444444444,
              "#bd3786"
             ],
             [
              0.5555555555555556,
              "#d8576b"
             ],
             [
              0.6666666666666666,
              "#ed7953"
             ],
             [
              0.7777777777777778,
              "#fb9f3a"
             ],
             [
              0.8888888888888888,
              "#fdca26"
             ],
             [
              1,
              "#f0f921"
             ]
            ],
            "type": "surface"
           }
          ],
          "table": [
           {
            "cells": {
             "fill": {
              "color": "#EBF0F8"
             },
             "line": {
              "color": "white"
             }
            },
            "header": {
             "fill": {
              "color": "#C8D4E3"
             },
             "line": {
              "color": "white"
             }
            },
            "type": "table"
           }
          ]
         },
         "layout": {
          "annotationdefaults": {
           "arrowcolor": "#2a3f5f",
           "arrowhead": 0,
           "arrowwidth": 1
          },
          "autotypenumbers": "strict",
          "coloraxis": {
           "colorbar": {
            "outlinewidth": 0,
            "ticks": ""
           }
          },
          "colorscale": {
           "diverging": [
            [
             0,
             "#8e0152"
            ],
            [
             0.1,
             "#c51b7d"
            ],
            [
             0.2,
             "#de77ae"
            ],
            [
             0.3,
             "#f1b6da"
            ],
            [
             0.4,
             "#fde0ef"
            ],
            [
             0.5,
             "#f7f7f7"
            ],
            [
             0.6,
             "#e6f5d0"
            ],
            [
             0.7,
             "#b8e186"
            ],
            [
             0.8,
             "#7fbc41"
            ],
            [
             0.9,
             "#4d9221"
            ],
            [
             1,
             "#276419"
            ]
           ],
           "sequential": [
            [
             0,
             "#0d0887"
            ],
            [
             0.1111111111111111,
             "#46039f"
            ],
            [
             0.2222222222222222,
             "#7201a8"
            ],
            [
             0.3333333333333333,
             "#9c179e"
            ],
            [
             0.4444444444444444,
             "#bd3786"
            ],
            [
             0.5555555555555556,
             "#d8576b"
            ],
            [
             0.6666666666666666,
             "#ed7953"
            ],
            [
             0.7777777777777778,
             "#fb9f3a"
            ],
            [
             0.8888888888888888,
             "#fdca26"
            ],
            [
             1,
             "#f0f921"
            ]
           ],
           "sequentialminus": [
            [
             0,
             "#0d0887"
            ],
            [
             0.1111111111111111,
             "#46039f"
            ],
            [
             0.2222222222222222,
             "#7201a8"
            ],
            [
             0.3333333333333333,
             "#9c179e"
            ],
            [
             0.4444444444444444,
             "#bd3786"
            ],
            [
             0.5555555555555556,
             "#d8576b"
            ],
            [
             0.6666666666666666,
             "#ed7953"
            ],
            [
             0.7777777777777778,
             "#fb9f3a"
            ],
            [
             0.8888888888888888,
             "#fdca26"
            ],
            [
             1,
             "#f0f921"
            ]
           ]
          },
          "colorway": [
           "#636efa",
           "#EF553B",
           "#00cc96",
           "#ab63fa",
           "#FFA15A",
           "#19d3f3",
           "#FF6692",
           "#B6E880",
           "#FF97FF",
           "#FECB52"
          ],
          "font": {
           "color": "#2a3f5f"
          },
          "geo": {
           "bgcolor": "white",
           "lakecolor": "white",
           "landcolor": "#E5ECF6",
           "showlakes": true,
           "showland": true,
           "subunitcolor": "white"
          },
          "hoverlabel": {
           "align": "left"
          },
          "hovermode": "closest",
          "mapbox": {
           "style": "light"
          },
          "paper_bgcolor": "white",
          "plot_bgcolor": "#E5ECF6",
          "polar": {
           "angularaxis": {
            "gridcolor": "white",
            "linecolor": "white",
            "ticks": ""
           },
           "bgcolor": "#E5ECF6",
           "radialaxis": {
            "gridcolor": "white",
            "linecolor": "white",
            "ticks": ""
           }
          },
          "scene": {
           "xaxis": {
            "backgroundcolor": "#E5ECF6",
            "gridcolor": "white",
            "gridwidth": 2,
            "linecolor": "white",
            "showbackground": true,
            "ticks": "",
            "zerolinecolor": "white"
           },
           "yaxis": {
            "backgroundcolor": "#E5ECF6",
            "gridcolor": "white",
            "gridwidth": 2,
            "linecolor": "white",
            "showbackground": true,
            "ticks": "",
            "zerolinecolor": "white"
           },
           "zaxis": {
            "backgroundcolor": "#E5ECF6",
            "gridcolor": "white",
            "gridwidth": 2,
            "linecolor": "white",
            "showbackground": true,
            "ticks": "",
            "zerolinecolor": "white"
           }
          },
          "shapedefaults": {
           "line": {
            "color": "#2a3f5f"
           }
          },
          "ternary": {
           "aaxis": {
            "gridcolor": "white",
            "linecolor": "white",
            "ticks": ""
           },
           "baxis": {
            "gridcolor": "white",
            "linecolor": "white",
            "ticks": ""
           },
           "bgcolor": "#E5ECF6",
           "caxis": {
            "gridcolor": "white",
            "linecolor": "white",
            "ticks": ""
           }
          },
          "title": {
           "x": 0.05
          },
          "xaxis": {
           "automargin": true,
           "gridcolor": "white",
           "linecolor": "white",
           "ticks": "",
           "title": {
            "standoff": 15
           },
           "zerolinecolor": "white",
           "zerolinewidth": 2
          },
          "yaxis": {
           "automargin": true,
           "gridcolor": "white",
           "linecolor": "white",
           "ticks": "",
           "title": {
            "standoff": 15
           },
           "zerolinecolor": "white",
           "zerolinewidth": 2
          }
         }
        },
        "title": {
         "text": "Categorical Heirarchy"
        },
        "width": 1200
       }
      },
      "text/html": [
       "<div>                            <div id=\"fcd94bcf-b6c1-45a3-9064-de87f56c7bb2\" class=\"plotly-graph-div\" style=\"height:1000px; width:1200px;\"></div>            <script type=\"text/javascript\">                require([\"plotly\"], function(Plotly) {                    window.PLOTLYENV=window.PLOTLYENV || {};                                    if (document.getElementById(\"fcd94bcf-b6c1-45a3-9064-de87f56c7bb2\")) {                    Plotly.newPlot(                        \"fcd94bcf-b6c1-45a3-9064-de87f56c7bb2\",                        [{\"branchvalues\":\"total\",\"domain\":{\"x\":[0.0,1.0],\"y\":[0.0,1.0]},\"hovertemplate\":\"labels=%{label}<br>count=%{value}<br>parent=%{parent}<br>id=%{id}<extra></extra>\",\"ids\":[\"pot_plants/cyclamen/13_cm\",\"pot_plants/geranium/13_cm\",\"pot_plants/poinsettia/13_cm\",\"pot_plants/geranium/9_cm\",\"vegetable/cauliflower/all\",\"fruit/cherries/all\",\"fruit/plums/all_other\",\"cut_flowers/gladioli/all_varieties\",\"vegetable/parsnips/all_varieties\",\"vegetable/celery/all_washed\",\"vegetable/asparagus/asparagus\",\"vegetable/beetroot/beetroot\",\"fruit/currants/black\",\"fruit/blackberries/blackberries\",\"fruit/blueberries/blueberries\",\"fruit/apples/braeburn\",\"fruit/apples/bramleys_seedling\",\"vegetable/beans/broad\",\"vegetable/brussels_sprouts/brussels_sprouts\",\"vegetable/onion/bulb_brown\",\"vegetable/onion/bulb_red\",\"vegetable/lettuce/butterhead_indoor\",\"vegetable/calabrese/calabrese\",\"vegetable/celeriac/celeriac\",\"vegetable/tomatoes/cherry\",\"vegetable/chinese_leaf/chinese_leaf\",\"fruit/pears/conference\",\"vegetable/coriander/coriander\",\"vegetable/lettuce/cos\",\"vegetable/courgettes/courgettes\",\"fruit/apples/coxs_orange_group\",\"vegetable/lettuce/crisp_iceberg_type\",\"vegetable/cucumbers/cucumbers\",\"vegetable/curly_kale/curly_kale\",\"fruit/pears/doyenne_du_comice\",\"vegetable/beans/dwarf_french_or_kidney\",\"fruit/apples/egremont_russet\",\"vegetable/capsicum/elongated\",\"vegetable/rhubarb/forced\",\"fruit/apples/gala\",\"fruit/gooseberries/gooseberries\",\"vegetable/capsicum/green\",\"cut_flowers/alstromeria/indoor\",\"cut_flowers/narcissus/indoor\",\"cut_flowers/chrysanthemum/indoor_spray\",\"vegetable/lettuce/little_gem\",\"vegetable/spinach_leaf/loose_bunches\",\"cut_flowers/lillies/oriental\",\"fruit/pears/other\",\"fruit/apples/other_early_season\",\"fruit/apples/other_late_season\",\"fruit/apples/other_mid_season\",\"cut_flowers/narcissus/outdoor\",\"vegetable/rhubarb/outdoor\",\"vegetable/pak_choi/pak_choi\",\"cut_flowers/peony/peony\",\"vegetable/mixed_babyleaf_salad/pillow_pack\",\"vegetable/watercress/pillow_packs\",\"vegetable/tomatoes/plum\",\"vegetable/spring_greens/prepacked\",\"fruit/raspberries/raspberries\",\"vegetable/cabbage/red\",\"vegetable/capsicum/red\",\"fruit/currants/red\",\"vegetable/rocket/rocket\",\"vegetable/tomatoes/round\",\"vegetable/cabbage/round_green_other\",\"vegetable/beans/runner_climbing\",\"vegetable/onion/saladspring\",\"vegetable/cabbage/savoy\",\"vegetable/peas/shelling_all_varieties\",\"cut_flowers/stocks/stocks\",\"fruit/strawberries/strawberries\",\"vegetable/cabbage/summer_autumn_pointed\",\"vegetable/swede/swede\",\"cut_flowers/sweet_williams/sweet_williams\",\"vegetable/sweetcorn/sweetcorn\",\"vegetable/carrots/topped_washed\",\"vegetable/leeks/trimmed\",\"cut_flowers/tulips/tulips\",\"vegetable/turnip/turnip\",\"fruit/plums/victoria\",\"vegetable/tomatoes/vine\",\"vegetable/cabbage/white\",\"vegetable/capsicum/yelloworange\",\"cut_flowers/alstromeria\",\"fruit/apples\",\"vegetable/asparagus\",\"vegetable/beans\",\"vegetable/beetroot\",\"fruit/blackberries\",\"fruit/blueberries\",\"vegetable/brussels_sprouts\",\"vegetable/cabbage\",\"vegetable/calabrese\",\"vegetable/capsicum\",\"vegetable/carrots\",\"vegetable/cauliflower\",\"vegetable/celeriac\",\"vegetable/celery\",\"fruit/cherries\",\"vegetable/chinese_leaf\",\"cut_flowers/chrysanthemum\",\"vegetable/coriander\",\"vegetable/courgettes\",\"vegetable/cucumbers\",\"vegetable/curly_kale\",\"fruit/currants\",\"pot_plants/cyclamen\",\"pot_plants/geranium\",\"cut_flowers/gladioli\",\"fruit/gooseberries\",\"vegetable/leeks\",\"vegetable/lettuce\",\"cut_flowers/lillies\",\"vegetable/mixed_babyleaf_salad\",\"cut_flowers/narcissus\",\"vegetable/onion\",\"vegetable/pak_choi\",\"vegetable/parsnips\",\"fruit/pears\",\"vegetable/peas\",\"cut_flowers/peony\",\"fruit/plums\",\"pot_plants/poinsettia\",\"fruit/raspberries\",\"vegetable/rhubarb\",\"vegetable/rocket\",\"vegetable/spinach_leaf\",\"vegetable/spring_greens\",\"cut_flowers/stocks\",\"fruit/strawberries\",\"vegetable/swede\",\"cut_flowers/sweet_williams\",\"vegetable/sweetcorn\",\"vegetable/tomatoes\",\"cut_flowers/tulips\",\"vegetable/turnip\",\"vegetable/watercress\",\"cut_flowers\",\"fruit\",\"pot_plants\",\"vegetable\"],\"labels\":[\"13_cm\",\"13_cm\",\"13_cm\",\"9_cm\",\"all\",\"all\",\"all_other\",\"all_varieties\",\"all_varieties\",\"all_washed\",\"asparagus\",\"beetroot\",\"black\",\"blackberries\",\"blueberries\",\"braeburn\",\"bramleys_seedling\",\"broad\",\"brussels_sprouts\",\"bulb_brown\",\"bulb_red\",\"butterhead_indoor\",\"calabrese\",\"celeriac\",\"cherry\",\"chinese_leaf\",\"conference\",\"coriander\",\"cos\",\"courgettes\",\"coxs_orange_group\",\"crisp_iceberg_type\",\"cucumbers\",\"curly_kale\",\"doyenne_du_comice\",\"dwarf_french_or_kidney\",\"egremont_russet\",\"elongated\",\"forced\",\"gala\",\"gooseberries\",\"green\",\"indoor\",\"indoor\",\"indoor_spray\",\"little_gem\",\"loose_bunches\",\"oriental\",\"other\",\"other_early_season\",\"other_late_season\",\"other_mid_season\",\"outdoor\",\"outdoor\",\"pak_choi\",\"peony\",\"pillow_pack\",\"pillow_packs\",\"plum\",\"prepacked\",\"raspberries\",\"red\",\"red\",\"red\",\"rocket\",\"round\",\"round_green_other\",\"runner_climbing\",\"saladspring\",\"savoy\",\"shelling_all_varieties\",\"stocks\",\"strawberries\",\"summer_autumn_pointed\",\"swede\",\"sweet_williams\",\"sweetcorn\",\"topped_washed\",\"trimmed\",\"tulips\",\"turnip\",\"victoria\",\"vine\",\"white\",\"yelloworange\",\"alstromeria\",\"apples\",\"asparagus\",\"beans\",\"beetroot\",\"blackberries\",\"blueberries\",\"brussels_sprouts\",\"cabbage\",\"calabrese\",\"capsicum\",\"carrots\",\"cauliflower\",\"celeriac\",\"celery\",\"cherries\",\"chinese_leaf\",\"chrysanthemum\",\"coriander\",\"courgettes\",\"cucumbers\",\"curly_kale\",\"currants\",\"cyclamen\",\"geranium\",\"gladioli\",\"gooseberries\",\"leeks\",\"lettuce\",\"lillies\",\"mixed_babyleaf_salad\",\"narcissus\",\"onion\",\"pak_choi\",\"parsnips\",\"pears\",\"peas\",\"peony\",\"plums\",\"poinsettia\",\"raspberries\",\"rhubarb\",\"rocket\",\"spinach_leaf\",\"spring_greens\",\"stocks\",\"strawberries\",\"swede\",\"sweet_williams\",\"sweetcorn\",\"tomatoes\",\"tulips\",\"turnip\",\"watercress\",\"cut_flowers\",\"fruit\",\"pot_plants\",\"vegetable\"],\"name\":\"\",\"parents\":[\"pot_plants/cyclamen\",\"pot_plants/geranium\",\"pot_plants/poinsettia\",\"pot_plants/geranium\",\"vegetable/cauliflower\",\"fruit/cherries\",\"fruit/plums\",\"cut_flowers/gladioli\",\"vegetable/parsnips\",\"vegetable/celery\",\"vegetable/asparagus\",\"vegetable/beetroot\",\"fruit/currants\",\"fruit/blackberries\",\"fruit/blueberries\",\"fruit/apples\",\"fruit/apples\",\"vegetable/beans\",\"vegetable/brussels_sprouts\",\"vegetable/onion\",\"vegetable/onion\",\"vegetable/lettuce\",\"vegetable/calabrese\",\"vegetable/celeriac\",\"vegetable/tomatoes\",\"vegetable/chinese_leaf\",\"fruit/pears\",\"vegetable/coriander\",\"vegetable/lettuce\",\"vegetable/courgettes\",\"fruit/apples\",\"vegetable/lettuce\",\"vegetable/cucumbers\",\"vegetable/curly_kale\",\"fruit/pears\",\"vegetable/beans\",\"fruit/apples\",\"vegetable/capsicum\",\"vegetable/rhubarb\",\"fruit/apples\",\"fruit/gooseberries\",\"vegetable/capsicum\",\"cut_flowers/alstromeria\",\"cut_flowers/narcissus\",\"cut_flowers/chrysanthemum\",\"vegetable/lettuce\",\"vegetable/spinach_leaf\",\"cut_flowers/lillies\",\"fruit/pears\",\"fruit/apples\",\"fruit/apples\",\"fruit/apples\",\"cut_flowers/narcissus\",\"vegetable/rhubarb\",\"vegetable/pak_choi\",\"cut_flowers/peony\",\"vegetable/mixed_babyleaf_salad\",\"vegetable/watercress\",\"vegetable/tomatoes\",\"vegetable/spring_greens\",\"fruit/raspberries\",\"vegetable/cabbage\",\"vegetable/capsicum\",\"fruit/currants\",\"vegetable/rocket\",\"vegetable/tomatoes\",\"vegetable/cabbage\",\"vegetable/beans\",\"vegetable/onion\",\"vegetable/cabbage\",\"vegetable/peas\",\"cut_flowers/stocks\",\"fruit/strawberries\",\"vegetable/cabbage\",\"vegetable/swede\",\"cut_flowers/sweet_williams\",\"vegetable/sweetcorn\",\"vegetable/carrots\",\"vegetable/leeks\",\"cut_flowers/tulips\",\"vegetable/turnip\",\"fruit/plums\",\"vegetable/tomatoes\",\"vegetable/cabbage\",\"vegetable/capsicum\",\"cut_flowers\",\"fruit\",\"vegetable\",\"vegetable\",\"vegetable\",\"fruit\",\"fruit\",\"vegetable\",\"vegetable\",\"vegetable\",\"vegetable\",\"vegetable\",\"vegetable\",\"vegetable\",\"vegetable\",\"fruit\",\"vegetable\",\"cut_flowers\",\"vegetable\",\"vegetable\",\"vegetable\",\"vegetable\",\"fruit\",\"pot_plants\",\"pot_plants\",\"cut_flowers\",\"fruit\",\"vegetable\",\"vegetable\",\"cut_flowers\",\"vegetable\",\"cut_flowers\",\"vegetable\",\"vegetable\",\"vegetable\",\"fruit\",\"vegetable\",\"cut_flowers\",\"fruit\",\"pot_plants\",\"fruit\",\"vegetable\",\"vegetable\",\"vegetable\",\"vegetable\",\"cut_flowers\",\"fruit\",\"vegetable\",\"cut_flowers\",\"vegetable\",\"vegetable\",\"cut_flowers\",\"vegetable\",\"vegetable\",\"\",\"\",\"\",\"\"],\"values\":[29,9,6,5,218,45,50,68,211,124,63,218,36,60,73,156,218,90,143,213,203,218,116,218,109,86,162,131,120,81,141,110,164,217,102,72,122,67,98,192,41,60,58,24,13,218,129,40,48,51,163,34,22,137,218,7,115,92,60,218,101,218,107,28,109,142,217,68,127,208,80,7,138,144,212,6,59,214,208,97,193,31,134,218,69,58,1077,63,230,218,60,73,143,1005,116,303,214,218,218,124,45,86,13,131,81,164,217,64,29,14,68,41,208,666,40,115,46,543,218,211,312,80,7,81,6,101,235,109,129,218,7,138,212,6,59,445,97,193,92,342,1992,49,7264],\"type\":\"sunburst\"}],                        {\"template\":{\"data\":{\"bar\":[{\"error_x\":{\"color\":\"#2a3f5f\"},\"error_y\":{\"color\":\"#2a3f5f\"},\"marker\":{\"line\":{\"color\":\"#E5ECF6\",\"width\":0.5},\"pattern\":{\"fillmode\":\"overlay\",\"size\":10,\"solidity\":0.2}},\"type\":\"bar\"}],\"barpolar\":[{\"marker\":{\"line\":{\"color\":\"#E5ECF6\",\"width\":0.5},\"pattern\":{\"fillmode\":\"overlay\",\"size\":10,\"solidity\":0.2}},\"type\":\"barpolar\"}],\"carpet\":[{\"aaxis\":{\"endlinecolor\":\"#2a3f5f\",\"gridcolor\":\"white\",\"linecolor\":\"white\",\"minorgridcolor\":\"white\",\"startlinecolor\":\"#2a3f5f\"},\"baxis\":{\"endlinecolor\":\"#2a3f5f\",\"gridcolor\":\"white\",\"linecolor\":\"white\",\"minorgridcolor\":\"white\",\"startlinecolor\":\"#2a3f5f\"},\"type\":\"carpet\"}],\"choropleth\":[{\"colorbar\":{\"outlinewidth\":0,\"ticks\":\"\"},\"type\":\"choropleth\"}],\"contour\":[{\"colorbar\":{\"outlinewidth\":0,\"ticks\":\"\"},\"colorscale\":[[0.0,\"#0d0887\"],[0.1111111111111111,\"#46039f\"],[0.2222222222222222,\"#7201a8\"],[0.3333333333333333,\"#9c179e\"],[0.4444444444444444,\"#bd3786\"],[0.5555555555555556,\"#d8576b\"],[0.6666666666666666,\"#ed7953\"],[0.7777777777777778,\"#fb9f3a\"],[0.8888888888888888,\"#fdca26\"],[1.0,\"#f0f921\"]],\"type\":\"contour\"}],\"contourcarpet\":[{\"colorbar\":{\"outlinewidth\":0,\"ticks\":\"\"},\"type\":\"contourcarpet\"}],\"heatmap\":[{\"colorbar\":{\"outlinewidth\":0,\"ticks\":\"\"},\"colorscale\":[[0.0,\"#0d0887\"],[0.1111111111111111,\"#46039f\"],[0.2222222222222222,\"#7201a8\"],[0.3333333333333333,\"#9c179e\"],[0.4444444444444444,\"#bd3786\"],[0.5555555555555556,\"#d8576b\"],[0.6666666666666666,\"#ed7953\"],[0.7777777777777778,\"#fb9f3a\"],[0.8888888888888888,\"#fdca26\"],[1.0,\"#f0f921\"]],\"type\":\"heatmap\"}],\"heatmapgl\":[{\"colorbar\":{\"outlinewidth\":0,\"ticks\":\"\"},\"colorscale\":[[0.0,\"#0d0887\"],[0.1111111111111111,\"#46039f\"],[0.2222222222222222,\"#7201a8\"],[0.3333333333333333,\"#9c179e\"],[0.4444444444444444,\"#bd3786\"],[0.5555555555555556,\"#d8576b\"],[0.6666666666666666,\"#ed7953\"],[0.7777777777777778,\"#fb9f3a\"],[0.8888888888888888,\"#fdca26\"],[1.0,\"#f0f921\"]],\"type\":\"heatmapgl\"}],\"histogram\":[{\"marker\":{\"pattern\":{\"fillmode\":\"overlay\",\"size\":10,\"solidity\":0.2}},\"type\":\"histogram\"}],\"histogram2d\":[{\"colorbar\":{\"outlinewidth\":0,\"ticks\":\"\"},\"colorscale\":[[0.0,\"#0d0887\"],[0.1111111111111111,\"#46039f\"],[0.2222222222222222,\"#7201a8\"],[0.3333333333333333,\"#9c179e\"],[0.4444444444444444,\"#bd3786\"],[0.5555555555555556,\"#d8576b\"],[0.6666666666666666,\"#ed7953\"],[0.7777777777777778,\"#fb9f3a\"],[0.8888888888888888,\"#fdca26\"],[1.0,\"#f0f921\"]],\"type\":\"histogram2d\"}],\"histogram2dcontour\":[{\"colorbar\":{\"outlinewidth\":0,\"ticks\":\"\"},\"colorscale\":[[0.0,\"#0d0887\"],[0.1111111111111111,\"#46039f\"],[0.2222222222222222,\"#7201a8\"],[0.3333333333333333,\"#9c179e\"],[0.4444444444444444,\"#bd3786\"],[0.5555555555555556,\"#d8576b\"],[0.6666666666666666,\"#ed7953\"],[0.7777777777777778,\"#fb9f3a\"],[0.8888888888888888,\"#fdca26\"],[1.0,\"#f0f921\"]],\"type\":\"histogram2dcontour\"}],\"mesh3d\":[{\"colorbar\":{\"outlinewidth\":0,\"ticks\":\"\"},\"type\":\"mesh3d\"}],\"parcoords\":[{\"line\":{\"colorbar\":{\"outlinewidth\":0,\"ticks\":\"\"}},\"type\":\"parcoords\"}],\"pie\":[{\"automargin\":true,\"type\":\"pie\"}],\"scatter\":[{\"marker\":{\"colorbar\":{\"outlinewidth\":0,\"ticks\":\"\"}},\"type\":\"scatter\"}],\"scatter3d\":[{\"line\":{\"colorbar\":{\"outlinewidth\":0,\"ticks\":\"\"}},\"marker\":{\"colorbar\":{\"outlinewidth\":0,\"ticks\":\"\"}},\"type\":\"scatter3d\"}],\"scattercarpet\":[{\"marker\":{\"colorbar\":{\"outlinewidth\":0,\"ticks\":\"\"}},\"type\":\"scattercarpet\"}],\"scattergeo\":[{\"marker\":{\"colorbar\":{\"outlinewidth\":0,\"ticks\":\"\"}},\"type\":\"scattergeo\"}],\"scattergl\":[{\"marker\":{\"colorbar\":{\"outlinewidth\":0,\"ticks\":\"\"}},\"type\":\"scattergl\"}],\"scattermapbox\":[{\"marker\":{\"colorbar\":{\"outlinewidth\":0,\"ticks\":\"\"}},\"type\":\"scattermapbox\"}],\"scatterpolar\":[{\"marker\":{\"colorbar\":{\"outlinewidth\":0,\"ticks\":\"\"}},\"type\":\"scatterpolar\"}],\"scatterpolargl\":[{\"marker\":{\"colorbar\":{\"outlinewidth\":0,\"ticks\":\"\"}},\"type\":\"scatterpolargl\"}],\"scatterternary\":[{\"marker\":{\"colorbar\":{\"outlinewidth\":0,\"ticks\":\"\"}},\"type\":\"scatterternary\"}],\"surface\":[{\"colorbar\":{\"outlinewidth\":0,\"ticks\":\"\"},\"colorscale\":[[0.0,\"#0d0887\"],[0.1111111111111111,\"#46039f\"],[0.2222222222222222,\"#7201a8\"],[0.3333333333333333,\"#9c179e\"],[0.4444444444444444,\"#bd3786\"],[0.5555555555555556,\"#d8576b\"],[0.6666666666666666,\"#ed7953\"],[0.7777777777777778,\"#fb9f3a\"],[0.8888888888888888,\"#fdca26\"],[1.0,\"#f0f921\"]],\"type\":\"surface\"}],\"table\":[{\"cells\":{\"fill\":{\"color\":\"#EBF0F8\"},\"line\":{\"color\":\"white\"}},\"header\":{\"fill\":{\"color\":\"#C8D4E3\"},\"line\":{\"color\":\"white\"}},\"type\":\"table\"}]},\"layout\":{\"annotationdefaults\":{\"arrowcolor\":\"#2a3f5f\",\"arrowhead\":0,\"arrowwidth\":1},\"autotypenumbers\":\"strict\",\"coloraxis\":{\"colorbar\":{\"outlinewidth\":0,\"ticks\":\"\"}},\"colorscale\":{\"diverging\":[[0,\"#8e0152\"],[0.1,\"#c51b7d\"],[0.2,\"#de77ae\"],[0.3,\"#f1b6da\"],[0.4,\"#fde0ef\"],[0.5,\"#f7f7f7\"],[0.6,\"#e6f5d0\"],[0.7,\"#b8e186\"],[0.8,\"#7fbc41\"],[0.9,\"#4d9221\"],[1,\"#276419\"]],\"sequential\":[[0.0,\"#0d0887\"],[0.1111111111111111,\"#46039f\"],[0.2222222222222222,\"#7201a8\"],[0.3333333333333333,\"#9c179e\"],[0.4444444444444444,\"#bd3786\"],[0.5555555555555556,\"#d8576b\"],[0.6666666666666666,\"#ed7953\"],[0.7777777777777778,\"#fb9f3a\"],[0.8888888888888888,\"#fdca26\"],[1.0,\"#f0f921\"]],\"sequentialminus\":[[0.0,\"#0d0887\"],[0.1111111111111111,\"#46039f\"],[0.2222222222222222,\"#7201a8\"],[0.3333333333333333,\"#9c179e\"],[0.4444444444444444,\"#bd3786\"],[0.5555555555555556,\"#d8576b\"],[0.6666666666666666,\"#ed7953\"],[0.7777777777777778,\"#fb9f3a\"],[0.8888888888888888,\"#fdca26\"],[1.0,\"#f0f921\"]]},\"colorway\":[\"#636efa\",\"#EF553B\",\"#00cc96\",\"#ab63fa\",\"#FFA15A\",\"#19d3f3\",\"#FF6692\",\"#B6E880\",\"#FF97FF\",\"#FECB52\"],\"font\":{\"color\":\"#2a3f5f\"},\"geo\":{\"bgcolor\":\"white\",\"lakecolor\":\"white\",\"landcolor\":\"#E5ECF6\",\"showlakes\":true,\"showland\":true,\"subunitcolor\":\"white\"},\"hoverlabel\":{\"align\":\"left\"},\"hovermode\":\"closest\",\"mapbox\":{\"style\":\"light\"},\"paper_bgcolor\":\"white\",\"plot_bgcolor\":\"#E5ECF6\",\"polar\":{\"angularaxis\":{\"gridcolor\":\"white\",\"linecolor\":\"white\",\"ticks\":\"\"},\"bgcolor\":\"#E5ECF6\",\"radialaxis\":{\"gridcolor\":\"white\",\"linecolor\":\"white\",\"ticks\":\"\"}},\"scene\":{\"xaxis\":{\"backgroundcolor\":\"#E5ECF6\",\"gridcolor\":\"white\",\"gridwidth\":2,\"linecolor\":\"white\",\"showbackground\":true,\"ticks\":\"\",\"zerolinecolor\":\"white\"},\"yaxis\":{\"backgroundcolor\":\"#E5ECF6\",\"gridcolor\":\"white\",\"gridwidth\":2,\"linecolor\":\"white\",\"showbackground\":true,\"ticks\":\"\",\"zerolinecolor\":\"white\"},\"zaxis\":{\"backgroundcolor\":\"#E5ECF6\",\"gridcolor\":\"white\",\"gridwidth\":2,\"linecolor\":\"white\",\"showbackground\":true,\"ticks\":\"\",\"zerolinecolor\":\"white\"}},\"shapedefaults\":{\"line\":{\"color\":\"#2a3f5f\"}},\"ternary\":{\"aaxis\":{\"gridcolor\":\"white\",\"linecolor\":\"white\",\"ticks\":\"\"},\"baxis\":{\"gridcolor\":\"white\",\"linecolor\":\"white\",\"ticks\":\"\"},\"bgcolor\":\"#E5ECF6\",\"caxis\":{\"gridcolor\":\"white\",\"linecolor\":\"white\",\"ticks\":\"\"}},\"title\":{\"x\":0.05},\"xaxis\":{\"automargin\":true,\"gridcolor\":\"white\",\"linecolor\":\"white\",\"ticks\":\"\",\"title\":{\"standoff\":15},\"zerolinecolor\":\"white\",\"zerolinewidth\":2},\"yaxis\":{\"automargin\":true,\"gridcolor\":\"white\",\"linecolor\":\"white\",\"ticks\":\"\",\"title\":{\"standoff\":15},\"zerolinecolor\":\"white\",\"zerolinewidth\":2}}},\"legend\":{\"tracegroupgap\":0},\"title\":{\"text\":\"Categorical Heirarchy\"},\"height\":1000,\"width\":1200},                        {\"responsive\": true}                    ).then(function(){\n",
       "                            \n",
       "var gd = document.getElementById('fcd94bcf-b6c1-45a3-9064-de87f56c7bb2');\n",
       "var x = new MutationObserver(function (mutations, observer) {{\n",
       "        var display = window.getComputedStyle(gd).display;\n",
       "        if (!display || display === 'none') {{\n",
       "            console.log([gd, 'removed!']);\n",
       "            Plotly.purge(gd);\n",
       "            observer.disconnect();\n",
       "        }}\n",
       "}});\n",
       "\n",
       "// Listen for the removal of the full notebook cells\n",
       "var notebookContainer = gd.closest('#notebook-container');\n",
       "if (notebookContainer) {{\n",
       "    x.observe(notebookContainer, {childList: true});\n",
       "}}\n",
       "\n",
       "// Listen for the clearing of the current output cell\n",
       "var outputEl = gd.closest('.output');\n",
       "if (outputEl) {{\n",
       "    x.observe(outputEl, {childList: true});\n",
       "}}\n",
       "\n",
       "                        })                };                });            </script>        </div>"
      ]
     },
     "metadata": {},
     "output_type": "display_data"
    }
   ],
   "source": [
    "# Applying GroupBy method on item and variety and read unique count value\n",
    "# price_per_variety = df.groupby(['category','item'])['variety'].unique()\n",
    "# price_per_variety = price_per_variety_over_time.reset_index(name='Total')\n",
    "# print(price_per_variety)\n",
    "fig = px.sunburst(df, path = ['category','item','variety'], width=1200, height=1000, title='Categorical Heirarchy')\n",
    "fig.show()"
   ]
  },
  {
   "cell_type": "code",
   "execution_count": null,
   "id": "c51eabfa",
   "metadata": {},
   "outputs": [],
   "source": [
    "# Define Plot Size\n",
    "\n",
    "fig, axs = plt.subplots(figsize=(20,8))\n",
    "\n",
    "# Calculate yearly average price for each category\n",
    "\n",
    "avg_price = df.groupby([df[\"date\"].dt.year, \"category\"])[\"price\"].mean().reset_index()\n",
    "\n",
    "\n",
    "# Using Seaborn library to plot line chart\n",
    "\n",
    "sns.set_theme(style=\"darkgrid\")\n",
    "sns.lineplot(data = avg_price, x=\"date\", y=\"price\", hue=\"category\", marker=\"o\")\n",
    "plt.show()"
   ]
  },
  {
   "cell_type": "markdown",
   "id": "8a61cf3b",
   "metadata": {},
   "source": [
    "To summarise, fruits and vegetables are the highest contributors in the wholesale fresh produce market. It is also important to note that price of Fruit category have fallen significantly in 2022 though Vegetable and Cut flowers didn't follow exactly the same trend. Pot plants didn't really have attractive market and selling of these goods have stopped in 2018."
   ]
  }
 ],
 "metadata": {
  "kernelspec": {
   "display_name": "Python 3 (ipykernel)",
   "language": "python",
   "name": "python3"
  },
  "language_info": {
   "codemirror_mode": {
    "name": "ipython",
    "version": 3
   },
   "file_extension": ".py",
   "mimetype": "text/x-python",
   "name": "python",
   "nbconvert_exporter": "python",
   "pygments_lexer": "ipython3",
   "version": "3.9.7"
  }
 },
 "nbformat": 4,
 "nbformat_minor": 5
}
